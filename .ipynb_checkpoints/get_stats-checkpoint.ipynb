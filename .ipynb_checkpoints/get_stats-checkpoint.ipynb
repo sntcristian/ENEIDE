{
 "cells": [
  {
   "cell_type": "code",
   "execution_count": 1,
   "metadata": {},
   "outputs": [],
   "source": [
    "import pandas as pd\n",
    "import matplotlib.pyplot as plt\n",
    "import os"
   ]
  },
  {
   "cell_type": "code",
   "execution_count": 2,
   "metadata": {},
   "outputs": [],
   "source": [
    "def load_data(dataset_path, dataset_name):\n",
    "    \"\"\"\n",
    "    Carica i dati dal percorso specificato per il dataset (paragrafi e annotazioni).\n",
    "    \"\"\"\n",
    "    paragraphs_train = pd.read_csv(os.path.join(dataset_path, dataset_name, 'paragraphs_train.csv'))\n",
    "    paragraphs_test = pd.read_csv(os.path.join(dataset_path, dataset_name, 'paragraphs_test.csv'))\n",
    "    annotations_train = pd.read_csv(os.path.join(dataset_path, dataset_name, 'annotations_train.csv'))\n",
    "    annotations_test = pd.read_csv(os.path.join(dataset_path, dataset_name, 'annotations_test.csv'))\n",
    "    \n",
    "    return paragraphs_train, paragraphs_test, annotations_train, annotations_test"
   ]
  },
  {
   "cell_type": "code",
   "execution_count": 3,
   "metadata": {},
   "outputs": [],
   "source": [
    "def compute_annotation_stats(annotations):\n",
    "    \n",
    "    total_annotations = len(annotations)\n",
    "    \n",
    "    unique_entities = annotations['identifier'].unique()\n",
    "    num_unique_entities = len(unique_entities)\n",
    "    \n",
    "    entity_counts = annotations['identifier'].value_counts()\n",
    "\n",
    "    return total_annotations, num_unique_entities, entity_counts"
   ]
  },
  {
   "cell_type": "code",
   "execution_count": 5,
   "metadata": {},
   "outputs": [],
   "source": [
    "def get_top_15_entities(entity_counts):\n",
    "    top_15_entities = entity_counts.head(15)\n",
    "    return top_15_entities"
   ]
  },
  {
   "cell_type": "code",
   "execution_count": 6,
   "metadata": {},
   "outputs": [],
   "source": [
    "def compute_unseen_entities(annotations_train, annotations_test):\n",
    "\n",
    "    train_entities = set(annotations_train['identifier'].unique())\n",
    "    \n",
    "    unseen_annotations = annotations_test[~annotations_test['identifier'].isin(train_entities)]\n",
    "    \n",
    "    unseen_count = len(unseen_annotations)\n",
    "    \n",
    "    unseen_entities = unseen_annotations['identifier'].unique()\n",
    "\n",
    "    seen_annotations = annotations_test[annotations_test['identifier'].isin(train_entities)]\n",
    "\n",
    "    seen_count = len(seen_annotations)\n",
    "\n",
    "    seen_entities = seen_annotations['identifier'].unique()\n",
    "    \n",
    "    return unseen_count, unseen_entities, seen_count, seen_entities"
   ]
  },
  {
   "cell_type": "code",
   "execution_count": 8,
   "metadata": {},
   "outputs": [],
   "source": [
    "def print_stats(dataset_name, annotations_train, annotations_test):\n",
    "\n",
    "    annotations = pd.concat([annotations_train, annotations_test], axis=0, ignore_index=True)\n",
    "    total_annotations, num_unique_entities, entity_counts = compute_annotation_stats(annotations)\n",
    "    \n",
    "    print(f\"--- Statistiche del Dataset {dataset_name} ---\")\n",
    "    print(f\"Numero totale di annotazioni: {total_annotations}\")\n",
    "    print(f\"Numero di entità uniche: {num_unique_entities}\")\n",
    "    \n",
    "    top_15_entities = get_top_15_entities(entity_counts)\n",
    "    print(\"\\nTop 15 entità più frequenti e la loro frequenza:\")\n",
    "    print(top_15_entities)\n",
    "    \n",
    "    unseen_count, unseen_entities, seen_count, seen_entities = compute_unseen_entities(annotations_train, annotations_test)\n",
    "    print(f\"\\nNumero di annotazioni contenenti entità non viste nel test set: {unseen_count}\")\n",
    "    if unseen_entities.any():\n",
    "        print(f\"Numero di entità non viste nel test set: {len(unseen_entities)}\")\n",
    "    print(f\"\\nNumero di annotazioni contenenti entità viste nel test set: {seen_count}\")\n",
    "    if seen_entities.any():\n",
    "        print(f\"Numero di entità viste nel test set: {len(seen_entities)}\")\n",
    "    \n",
    "    print(\"\\n--- Fine delle Statistiche ---\\n\")"
   ]
  },
  {
   "cell_type": "code",
   "execution_count": 11,
   "metadata": {},
   "outputs": [],
   "source": [
    "def main(dataset_path, dataset_name):\n",
    "    \"\"\"\n",
    "    Funzione principale per caricare i dati e calcolare le statistiche per un dato dataset.\n",
    "    \"\"\"\n",
    "    # Carica i dati per il dataset\n",
    "    paragraphs_train, paragraphs_test, annotations_train, annotations_test = load_data(dataset_path, dataset_name)\n",
    "    \n",
    "    # Stampa le statistiche\n",
    "    print_stats(dataset_name, annotations_train, annotations_test)"
   ]
  },
  {
   "cell_type": "code",
   "execution_count": 12,
   "metadata": {},
   "outputs": [
    {
     "ename": "TypeError",
     "evalue": "compute_annotation_stats() takes 1 positional argument but 2 were given",
     "output_type": "error",
     "traceback": [
      "\u001b[1;31m---------------------------------------------------------------------------\u001b[0m",
      "\u001b[1;31mTypeError\u001b[0m                                 Traceback (most recent call last)",
      "Cell \u001b[1;32mIn[12], line 4\u001b[0m\n\u001b[0;32m      1\u001b[0m main_folder_path \u001b[38;5;241m=\u001b[39m \u001b[38;5;124m'\u001b[39m\u001b[38;5;124m./\u001b[39m\u001b[38;5;124m'\u001b[39m\n\u001b[0;32m      3\u001b[0m \u001b[38;5;66;03m# Esegui per il dataset AMD\u001b[39;00m\n\u001b[1;32m----> 4\u001b[0m \u001b[43mmain\u001b[49m\u001b[43m(\u001b[49m\u001b[43mmain_folder_path\u001b[49m\u001b[43m,\u001b[49m\u001b[43m \u001b[49m\u001b[38;5;124;43m'\u001b[39;49m\u001b[38;5;124;43mAMD\u001b[39;49m\u001b[38;5;124;43m'\u001b[39;49m\u001b[43m)\u001b[49m\n\u001b[0;32m      6\u001b[0m \u001b[38;5;66;03m# Esegui per il dataset DZ\u001b[39;00m\n\u001b[0;32m      7\u001b[0m main(main_folder_path, \u001b[38;5;124m'\u001b[39m\u001b[38;5;124mDZ\u001b[39m\u001b[38;5;124m'\u001b[39m)\n",
      "Cell \u001b[1;32mIn[11], line 9\u001b[0m, in \u001b[0;36mmain\u001b[1;34m(dataset_path, dataset_name)\u001b[0m\n\u001b[0;32m      6\u001b[0m paragraphs_train, paragraphs_test, annotations_train, annotations_test \u001b[38;5;241m=\u001b[39m load_data(dataset_path, dataset_name)\n\u001b[0;32m      8\u001b[0m \u001b[38;5;66;03m# Stampa le statistiche\u001b[39;00m\n\u001b[1;32m----> 9\u001b[0m \u001b[43mprint_stats\u001b[49m\u001b[43m(\u001b[49m\u001b[43mdataset_name\u001b[49m\u001b[43m,\u001b[49m\u001b[43m \u001b[49m\u001b[43mannotations_train\u001b[49m\u001b[43m,\u001b[49m\u001b[43m \u001b[49m\u001b[43mannotations_test\u001b[49m\u001b[43m)\u001b[49m\n",
      "Cell \u001b[1;32mIn[8], line 4\u001b[0m, in \u001b[0;36mprint_stats\u001b[1;34m(dataset_name, annotations_train, annotations_test)\u001b[0m\n\u001b[0;32m      1\u001b[0m \u001b[38;5;28;01mdef\u001b[39;00m \u001b[38;5;21mprint_stats\u001b[39m(dataset_name, annotations_train, annotations_test):\n\u001b[0;32m      3\u001b[0m     annotations \u001b[38;5;241m=\u001b[39m pd\u001b[38;5;241m.\u001b[39mconcat([annotations_train, annotations_test], axis\u001b[38;5;241m=\u001b[39m\u001b[38;5;241m0\u001b[39m, ignore_index\u001b[38;5;241m=\u001b[39m\u001b[38;5;28;01mTrue\u001b[39;00m)\n\u001b[1;32m----> 4\u001b[0m     total_annotations, num_unique_entities, entity_counts \u001b[38;5;241m=\u001b[39m \u001b[43mcompute_annotation_stats\u001b[49m\u001b[43m(\u001b[49m\u001b[43mannotations_train\u001b[49m\u001b[43m,\u001b[49m\u001b[43m \u001b[49m\u001b[43mannotations_test\u001b[49m\u001b[43m)\u001b[49m\n\u001b[0;32m      6\u001b[0m     \u001b[38;5;28mprint\u001b[39m(\u001b[38;5;124mf\u001b[39m\u001b[38;5;124m\"\u001b[39m\u001b[38;5;124m--- Statistiche del Dataset \u001b[39m\u001b[38;5;132;01m{\u001b[39;00mdataset_name\u001b[38;5;132;01m}\u001b[39;00m\u001b[38;5;124m ---\u001b[39m\u001b[38;5;124m\"\u001b[39m)\n\u001b[0;32m      7\u001b[0m     \u001b[38;5;28mprint\u001b[39m(\u001b[38;5;124mf\u001b[39m\u001b[38;5;124m\"\u001b[39m\u001b[38;5;124mNumero totale di annotazioni: \u001b[39m\u001b[38;5;132;01m{\u001b[39;00mtotal_annotations\u001b[38;5;132;01m}\u001b[39;00m\u001b[38;5;124m\"\u001b[39m)\n",
      "\u001b[1;31mTypeError\u001b[0m: compute_annotation_stats() takes 1 positional argument but 2 were given"
     ]
    }
   ],
   "source": [
    "main_folder_path = './'\n",
    "\n",
    "# Esegui per il dataset AMD\n",
    "main(main_folder_path, 'AMD')\n",
    "\n",
    "# Esegui per il dataset DZ\n",
    "main(main_folder_path, 'DZ')"
   ]
  },
  {
   "cell_type": "code",
   "execution_count": null,
   "metadata": {},
   "outputs": [],
   "source": []
  }
 ],
 "metadata": {
  "kernelspec": {
   "display_name": "Python 3 (ipykernel)",
   "language": "python",
   "name": "python3"
  },
  "language_info": {
   "codemirror_mode": {
    "name": "ipython",
    "version": 3
   },
   "file_extension": ".py",
   "mimetype": "text/x-python",
   "name": "python",
   "nbconvert_exporter": "python",
   "pygments_lexer": "ipython3",
   "version": "3.10.13"
  }
 },
 "nbformat": 4,
 "nbformat_minor": 4
}
