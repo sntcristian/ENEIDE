{
 "cells": [
  {
   "cell_type": "code",
   "execution_count": 9,
   "id": "70d921e2-8f3f-44e5-be09-370ae1595288",
   "metadata": {},
   "outputs": [],
   "source": [
    "paragraphs_path = \"./AMD/v1.0/paragraphs_test.csv\"\n",
    "annotations_path = \"./AMD/v1.0/annotations_test.csv\""
   ]
  },
  {
   "cell_type": "code",
   "execution_count": 10,
   "id": "664cd49b-c0a8-4389-ab55-52499f1f9a5f",
   "metadata": {},
   "outputs": [],
   "source": [
    "import csv\n",
    "\n",
    "with open(paragraphs_path, \"r\", encoding=\"utf-8\") as f:\n",
    "    paragraphs_split = csv.DictReader(f)\n",
    "    paragraphs_split = list(paragraphs_split)\n",
    "f.close()\n",
    "\n",
    "with open(annotations_path, \"r\", encoding=\"utf-8\") as f:\n",
    "    annotations_split = csv.DictReader(f)\n",
    "    annotations_split = list(annotations_split)\n",
    "f.close()"
   ]
  },
  {
   "cell_type": "code",
   "execution_count": 11,
   "id": "c294e0f2-c48c-4bbb-b4fb-fd23b45324af",
   "metadata": {},
   "outputs": [],
   "source": [
    "num_of_documents_in_split = len(paragraphs_split)\n",
    "num_of_annotations_in_split = len(annotations_split)\n",
    "num_of_per_annotations = len([row for row in annotations_split if row[\"type\"]==\"PER\"])\n",
    "num_of_loc_annotations = len([row for row in annotations_split if row[\"type\"]==\"LOC\"])\n",
    "num_of_work_annotations = len([row for row in annotations_split if row[\"type\"]==\"ORG\"])\n",
    "num_of_unique_entities = len(set([row[\"identifier\"] for row in annotations_split if row[\"identifier\"].startswith(\"Q\")]))\n",
    "num_of_nil_entities = len([row[\"identifier\"] for row in annotations_split if not row[\"identifier\"].startswith(\"Q\")])"
   ]
  },
  {
   "cell_type": "code",
   "execution_count": 12,
   "id": "b75275ff-6abf-4b5f-8656-d76b51c4b7b3",
   "metadata": {},
   "outputs": [
    {
     "name": "stdout",
     "output_type": "stream",
     "text": [
      "160\n",
      "589\n",
      "194\n",
      "190\n",
      "205\n",
      "238\n",
      "9\n"
     ]
    }
   ],
   "source": [
    "print(num_of_documents_in_split)\n",
    "print(num_of_annotations_in_split)\n",
    "print(num_of_per_annotations)\n",
    "print(num_of_loc_annotations)\n",
    "print(num_of_work_annotations)\n",
    "print(num_of_unique_entities)\n",
    "print(num_of_nil_entities)"
   ]
  },
  {
   "cell_type": "markdown",
   "id": "b92c8b76-2328-40cf-b253-e3f6ff167be3",
   "metadata": {},
   "source": [
    "# Measure Overlap"
   ]
  },
  {
   "cell_type": "code",
   "execution_count": 13,
   "id": "fdaa4018-209d-4186-bc1c-3933d91b4235",
   "metadata": {},
   "outputs": [],
   "source": [
    "annotations_train = \"./AMD/v1.0/annotations_train.csv\"\n",
    "annotations_dev = \"./AMD/v1.0/annotations_dev.csv\"\n",
    "annotations_test = \"./AMD/v1.0/annotations_test.csv\"\n",
    "\n",
    "\n",
    "with open(annotations_train, \"r\", encoding=\"utf-8\") as f:\n",
    "    annotations_train = csv.DictReader(f)\n",
    "    annotations_train = list(annotations_train)\n",
    "f.close()\n",
    "\n",
    "with open(annotations_dev, \"r\", encoding=\"utf-8\") as f:\n",
    "    annotations_dev = csv.DictReader(f)\n",
    "    annotations_dev = list(annotations_dev)\n",
    "f.close()\n",
    "\n",
    "with open(annotations_test, \"r\", encoding=\"utf-8\") as f:\n",
    "    annotations_test = csv.DictReader(f)\n",
    "    annotations_test = list(annotations_test)\n",
    "f.close()\n"
   ]
  },
  {
   "cell_type": "code",
   "execution_count": 14,
   "id": "2a022921-f05e-4f13-9d62-8b4508964c8d",
   "metadata": {},
   "outputs": [
    {
     "name": "stdout",
     "output_type": "stream",
     "text": [
      "75.38200339558574\n"
     ]
    }
   ],
   "source": [
    "annotations_train_dev = annotations_train + annotations_dev\n",
    "\n",
    "unique_entities_train_dev = set([row[\"identifier\"] for row in annotations_train_dev if row[\"identifier\"].startswith(\"Q\")])\n",
    "annotations_seen = [row for row in annotations_test if row[\"identifier\"] in unique_entities_train_dev]\n",
    "print((len(annotations_seen)/len(annotations_test))*100)"
   ]
  },
  {
   "cell_type": "code",
   "execution_count": null,
   "id": "832a241f-f9f6-4c94-82fb-e94223dca1ed",
   "metadata": {},
   "outputs": [],
   "source": []
  }
 ],
 "metadata": {
  "kernelspec": {
   "display_name": "Python 3 (ipykernel)",
   "language": "python",
   "name": "python3"
  },
  "language_info": {
   "codemirror_mode": {
    "name": "ipython",
    "version": 3
   },
   "file_extension": ".py",
   "mimetype": "text/x-python",
   "name": "python",
   "nbconvert_exporter": "python",
   "pygments_lexer": "ipython3",
   "version": "3.9.21"
  }
 },
 "nbformat": 4,
 "nbformat_minor": 5
}
