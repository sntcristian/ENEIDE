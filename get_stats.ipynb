{
 "cells": [
  {
   "cell_type": "code",
   "execution_count": 1,
   "metadata": {},
   "outputs": [],
   "source": [
    "import pandas as pd\n",
    "import matplotlib.pyplot as plt\n",
    "import os"
   ]
  },
  {
   "cell_type": "code",
   "execution_count": 2,
   "metadata": {},
   "outputs": [],
   "source": [
    "def load_data(dataset_path, dataset_name):\n",
    "    \"\"\"\n",
    "    Carica i dati dal percorso specificato per il dataset (paragrafi e annotazioni).\n",
    "    \"\"\"\n",
    "    paragraphs_train = pd.read_csv(os.path.join(dataset_path, dataset_name, 'paragraphs_train.csv'))\n",
    "    paragraphs_test = pd.read_csv(os.path.join(dataset_path, dataset_name, 'paragraphs_test.csv'))\n",
    "    annotations_train = pd.read_csv(os.path.join(dataset_path, dataset_name, 'annotations_train.csv'))\n",
    "    annotations_test = pd.read_csv(os.path.join(dataset_path, dataset_name, 'annotations_test.csv'))\n",
    "    \n",
    "    return paragraphs_train, paragraphs_test, annotations_train, annotations_test"
   ]
  },
  {
   "cell_type": "code",
   "execution_count": 3,
   "metadata": {},
   "outputs": [],
   "source": [
    "def compute_annotation_stats(annotations):\n",
    "    \n",
    "    total_annotations = len(annotations)\n",
    "    \n",
    "    unique_entities = annotations['identifier'].unique()\n",
    "    num_unique_entities = len(unique_entities)\n",
    "    \n",
    "    entity_counts = annotations['identifier'].value_counts()\n",
    "\n",
    "    return total_annotations, num_unique_entities, entity_counts"
   ]
  },
  {
   "cell_type": "code",
   "execution_count": 4,
   "metadata": {},
   "outputs": [],
   "source": [
    "def get_top_15_entities(entity_counts):\n",
    "    top_15_entities = entity_counts.head(15)\n",
    "    return top_15_entities"
   ]
  },
  {
   "cell_type": "code",
   "execution_count": 5,
   "metadata": {},
   "outputs": [],
   "source": [
    "def compute_unseen_entities(annotations_train, annotations_test):\n",
    "\n",
    "    train_entities = set(annotations_train['identifier'].unique())\n",
    "    \n",
    "    unseen_annotations = annotations_test[~annotations_test['identifier'].isin(train_entities)]\n",
    "    \n",
    "    unseen_count = len(unseen_annotations)\n",
    "    \n",
    "    unseen_entities = unseen_annotations['identifier'].unique()\n",
    "\n",
    "    seen_annotations = annotations_test[annotations_test['identifier'].isin(train_entities)]\n",
    "\n",
    "    seen_count = len(seen_annotations)\n",
    "\n",
    "    seen_entities = seen_annotations['identifier'].unique()\n",
    "    \n",
    "    return unseen_count, unseen_entities, seen_count, seen_entities"
   ]
  },
  {
   "cell_type": "code",
   "execution_count": 6,
   "metadata": {},
   "outputs": [],
   "source": [
    "def print_stats(dataset_name, annotations_train, annotations_test):\n",
    "\n",
    "    annotations = pd.concat([annotations_train, annotations_test], axis=0, ignore_index=True)\n",
    "    total_annotations, num_unique_entities, entity_counts = compute_annotation_stats(annotations)\n",
    "    \n",
    "    print(f\"--- Statistiche del Dataset {dataset_name} ---\")\n",
    "    print(f\"Numero totale di annotazioni: {total_annotations}\")\n",
    "    print(f\"Numero di entità uniche: {num_unique_entities}\")\n",
    "    \n",
    "    top_15_entities = get_top_15_entities(entity_counts)\n",
    "    print(\"\\nTop 15 entità più frequenti e la loro frequenza:\")\n",
    "    print(top_15_entities)\n",
    "    \n",
    "    unseen_count, unseen_entities, seen_count, seen_entities = compute_unseen_entities(annotations_train, annotations_test)\n",
    "    print(f\"\\nNumero di annotazioni contenenti entità non viste nel test set: {unseen_count}\")\n",
    "    if unseen_entities.any():\n",
    "        print(f\"Numero di entità non viste nel test set: {len(unseen_entities)}\")\n",
    "    print(f\"\\nNumero di annotazioni contenenti entità viste nel test set: {seen_count}\")\n",
    "    if seen_entities.any():\n",
    "        print(f\"Numero di entità viste nel test set: {len(seen_entities)}\")\n",
    "    \n",
    "    print(\"\\n--- Fine delle Statistiche ---\\n\")"
   ]
  },
  {
   "cell_type": "code",
   "execution_count": 7,
   "metadata": {},
   "outputs": [],
   "source": [
    "def main(dataset_path, dataset_name):\n",
    "    \"\"\"\n",
    "    Funzione principale per caricare i dati e calcolare le statistiche per un dato dataset.\n",
    "    \"\"\"\n",
    "    # Carica i dati per il dataset\n",
    "    paragraphs_train, paragraphs_test, annotations_train, annotations_test = load_data(dataset_path, dataset_name)\n",
    "    \n",
    "    # Stampa le statistiche\n",
    "    print_stats(dataset_name, annotations_train, annotations_test)"
   ]
  },
  {
   "cell_type": "code",
   "execution_count": 8,
   "metadata": {},
   "outputs": [
    {
     "name": "stdout",
     "output_type": "stream",
     "text": [
      "--- Statistiche del Dataset AMD ---\n",
      "Numero totale di annotazioni: 2626\n",
      "Numero di entità uniche: 640\n",
      "\n",
      "Top 15 entità più frequenti e la loro frequenza:\n",
      "identifier\n",
      "Q815348     322\n",
      "Q38         272\n",
      "Q220         85\n",
      "Q3091708     83\n",
      "NIL          63\n",
      "Q52847       61\n",
      "Q46          59\n",
      "Q273228      33\n",
      "Q3519        32\n",
      "Q3866579     26\n",
      "Q2044        23\n",
      "Q1065        22\n",
      "Q34651       22\n",
      "Q3318304     22\n",
      "Q2604        22\n",
      "Name: count, dtype: int64\n",
      "\n",
      "Numero di annotazioni contenenti entità non viste nel test set: 162\n",
      "Numero di entità non viste nel test set: 133\n",
      "\n",
      "Numero di annotazioni contenenti entità viste nel test set: 505\n",
      "Numero di entità viste nel test set: 123\n",
      "\n",
      "--- Fine delle Statistiche ---\n",
      "\n",
      "--- Statistiche del Dataset DZ ---\n",
      "Numero totale di annotazioni: 2899\n",
      "Numero di entità uniche: 787\n",
      "\n",
      "Top 15 entità più frequenti e la loro frequenza:\n",
      "identifier\n",
      "Q15851274    193\n",
      "Q6691        111\n",
      "Q1240983     105\n",
      "Q38           93\n",
      "Q4015911      59\n",
      "Q550353       56\n",
      "Q1541         55\n",
      "Q1398         45\n",
      "Q46           42\n",
      "Q142          34\n",
      "Q859          29\n",
      "Q29           27\n",
      "Q11772        26\n",
      "Q33550        25\n",
      "Q1401         23\n",
      "Name: count, dtype: int64\n",
      "\n",
      "Numero di annotazioni contenenti entità non viste nel test set: 235\n",
      "Numero di entità non viste nel test set: 178\n",
      "\n",
      "Numero di annotazioni contenenti entità viste nel test set: 529\n",
      "Numero di entità viste nel test set: 148\n",
      "\n",
      "--- Fine delle Statistiche ---\n",
      "\n"
     ]
    }
   ],
   "source": [
    "main_folder_path = './'\n",
    "\n",
    "# Esegui per il dataset AMD\n",
    "main(main_folder_path, 'AMD')\n",
    "\n",
    "# Esegui per il dataset DZ\n",
    "main(main_folder_path, 'DZ')"
   ]
  }
 ],
 "metadata": {
  "kernelspec": {
   "display_name": "Python 3 (ipykernel)",
   "language": "python",
   "name": "python3"
  },
  "language_info": {
   "codemirror_mode": {
    "name": "ipython",
    "version": 3
   },
   "file_extension": ".py",
   "mimetype": "text/x-python",
   "name": "python",
   "nbconvert_exporter": "python",
   "pygments_lexer": "ipython3",
   "version": "3.10.13"
  }
 },
 "nbformat": 4,
 "nbformat_minor": 4
}
